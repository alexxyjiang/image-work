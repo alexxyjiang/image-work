{
 "cells": [
  {
   "cell_type": "markdown",
   "metadata": {},
   "source": [
    "# Image Preprocessing"
   ]
  },
  {
   "cell_type": "code",
   "execution_count": 17,
   "metadata": {},
   "outputs": [],
   "source": [
    "import re\n",
    "import skimage.io as sio\n",
    "import skimage.transform as stf\n",
    "\n",
    "def filename_prefix(filename: str) -> str:\n",
    "    m = re.search(r'\\d+', filename)\n",
    "    if m:\n",
    "        return m.group(0)\n",
    "    else:\n",
    "        return '000'\n",
    "\n",
    "def convert_image(dest_filename, src_filename):\n",
    "    sio.imsave(dest_filename, stf.resize(sio.imread(src_filename), (400, 400))"
   ]
  },
  {
   "cell_type": "code",
   "execution_count": 18,
   "metadata": {},
   "outputs": [],
   "source": [
    "import os\n",
    "for filename in os.listdir('/home/dev/images'):\n",
    "    if not os.path.isdir(filename):\n",
    "        if not filename.startswith('s'):\n",
    "            prefix = filename_prefix(filename)\n",
    "            convert_image('/home/dev/images/s' + prefix + '.jpg', '/home/dev/images/' + filename)"
   ]
  },
  {
   "cell_type": "code",
   "execution_count": null,
   "metadata": {},
   "outputs": [],
   "source": []
  }
 ],
 "metadata": {
  "kernelspec": {
   "display_name": "Python 3",
   "language": "python",
   "name": "python3"
  },
  "language_info": {
   "codemirror_mode": {
    "name": "ipython",
    "version": 3
   },
   "file_extension": ".py",
   "mimetype": "text/x-python",
   "name": "python",
   "nbconvert_exporter": "python",
   "pygments_lexer": "ipython3",
   "version": "3.6.9"
  }
 },
 "nbformat": 4,
 "nbformat_minor": 4
}
